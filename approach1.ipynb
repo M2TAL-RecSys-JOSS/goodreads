{
 "cells": [
  {
   "cell_type": "code",
   "execution_count": null,
   "id": "afaa7a59",
   "metadata": {
    "ExecuteTime": {
     "end_time": "2023-02-12T11:16:57.074909Z",
     "start_time": "2023-02-12T11:16:54.612622Z"
    }
   },
   "outputs": [],
   "source": [
    "!pip install numpy scikit-surprise pandas"
   ]
  },
  {
   "cell_type": "code",
   "execution_count": 56,
   "id": "dc11c93c",
   "metadata": {
    "ExecuteTime": {
     "end_time": "2023-02-12T13:45:50.020788Z",
     "start_time": "2023-02-12T13:45:50.012455Z"
    }
   },
   "outputs": [],
   "source": [
    "from collections import defaultdict\n",
    "\n",
    "from surprise import Dataset, SVD\n",
    "\n",
    "import pandas as pd\n",
    "\n",
    "from surprise import Dataset, NormalPredictor, Reader\n",
    "from surprise.model_selection import cross_validate\n",
    "\n",
    "from surprise import KNNBasic\n",
    "#from surprise import Reader, Dataset\n",
    "from surprise.model_selection import train_test_split\n",
    "# from surprise import SVD, accuracy\n",
    "from surprise import accuracy"
   ]
  },
  {
   "cell_type": "code",
   "execution_count": 57,
   "id": "cb11075c",
   "metadata": {
    "ExecuteTime": {
     "end_time": "2023-02-12T13:45:50.620905Z",
     "start_time": "2023-02-12T13:45:50.612045Z"
    }
   },
   "outputs": [],
   "source": [
    "def get_top_n(predictions, n=10):\n",
    "    # https://surprise.readthedocs.io/en/stable/FAQ.html#how-to-get-the-top-n-recommendations-for-each-user \n",
    "    \"\"\"Return the top-N recommendation for each user from a set of predictions.\n",
    "\n",
    "    Args:\n",
    "        predictions(list of Prediction objects): The list of predictions, as\n",
    "            returned by the test method of an algorithm.\n",
    "        n(int): The number of recommendation to output for each user. Default\n",
    "            is 10.\n",
    "\n",
    "    Returns:\n",
    "    A dict where keys are user (raw) ids and values are lists of tuples:\n",
    "        [(raw item id, rating estimation), ...] of size n.\n",
    "    \"\"\"\n",
    "\n",
    "    # First map the predictions to each user.\n",
    "    top_n = defaultdict(list)\n",
    "    for uid, iid, true_r, est, _ in predictions:\n",
    "        top_n[uid].append((iid, est))\n",
    "\n",
    "    # Then sort the predictions for each user and retrieve the k highest ones.\n",
    "    for uid, user_ratings in top_n.items():\n",
    "        user_ratings.sort(key=lambda x: x[1], reverse=True)\n",
    "        top_n[uid] = user_ratings[:n]\n",
    "\n",
    "    return top_n"
   ]
  },
  {
   "cell_type": "code",
   "execution_count": 58,
   "id": "d8b4752f",
   "metadata": {
    "ExecuteTime": {
     "end_time": "2023-02-12T13:45:51.197268Z",
     "start_time": "2023-02-12T13:45:51.115251Z"
    }
   },
   "outputs": [
    {
     "name": "stderr",
     "output_type": "stream",
     "text": [
      "+ ls -lah ../gdown_output/\n"
     ]
    },
    {
     "name": "stdout",
     "output_type": "stream",
     "text": [
      "total 4.3G\n",
      "drwxr-xr-x 3 user user 4.0K Feb 12 12:49 .\n",
      "drwxr-xr-x 8 user user 4.0K Feb 12 11:51 ..\n",
      "drwxr-xr-x 2 user user 4.0K Feb 12 12:42 children\n",
      "-rw-r--r-- 1 user user  27M Feb  6 15:51 goodreads_books_poetry.json.gz\n",
      "-rw-r--r-- 1 user user 4.1G Feb  6 15:54 goodreads_interactions.csv\n",
      "-rw-r--r-- 1 user user   93 Feb  6 15:51 goodreads_interactions.csv.sha256sum\n",
      "-rw-r--r-- 1 user user 145M Feb  6 15:51 goodreads_interactions_poetry.json.gz\n",
      "-rw-r--r-- 1 user user  48M Feb  6 15:51 goodreads_reviews_poetry.json.gz\n"
     ]
    },
    {
     "name": "stderr",
     "output_type": "stream",
     "text": [
      "+ ls -lah .\n"
     ]
    },
    {
     "name": "stdout",
     "output_type": "stream",
     "text": [
      "total 1.7M\n",
      "drwxr-xr-x 5 user user 4.0K Feb 12 14:45 .\n",
      "drwxr-xr-x 8 user user 4.0K Feb 12 11:51 ..\n",
      "-rw-r--r-- 1 user user  29K Feb 12 14:45 approach1.ipynb\n",
      "-rw-r--r-- 1 user user  69K Feb  6 15:36 distributions.ipynb\n",
      "-rw-r--r-- 1 user user  25K Feb  6 15:41 download.ipynb\n",
      "-rw-r--r-- 1 user user 2.5K Feb  6 15:36 gdrive_id.csv\n",
      "drwxr-xr-x 8 user user 4.0K Feb 12 14:42 .git\n",
      "-rw-r--r-- 1 user user 1.2K Feb  6 15:36 .gitignore\n",
      "drwxr-xr-x 2 user user 4.0K Feb 12 12:13 .ipynb_checkpoints\n",
      "-rw-r--r-- 1 user user  12K Feb  6 15:36 LICENSE\n",
      "-rw-r--r-- 1 user user 2.3K Feb  6 15:36 README.md\n",
      "-rw-r--r-- 1 user user  14K Feb  6 15:36 reviews.ipynb\n",
      "-rw-r--r-- 1 user user  17K Feb  6 15:36 samples.ipynb\n",
      "-rw-r--r-- 1 user user  21K Feb  6 15:36 statistics.ipynb\n",
      "drwxr-xr-x 2 user user 4.0K Feb 12 12:11 .virtual_documents\n",
      "-rw-r--r-- 1 user user 1.5M Feb 12 14:45 xaa\n"
     ]
    }
   ],
   "source": [
    "%%bash\n",
    "set -x\n",
    "ls -lah ../gdown_output/\n",
    "ls -lah ."
   ]
  },
  {
   "cell_type": "code",
   "execution_count": 59,
   "id": "78ea81e7",
   "metadata": {
    "ExecuteTime": {
     "end_time": "2023-02-12T13:45:51.636325Z",
     "start_time": "2023-02-12T13:45:51.591697Z"
    }
   },
   "outputs": [],
   "source": [
    "%%bash\n",
    "#gunzip -k ../gdown_output/goodreads_interactions_poetry.json.gz\n",
    "# split -l 100000 interactions.csv\n",
    "# head -n 100000 orig.csv  > xaa\n",
    "head -n 100000  ../gdown_output/goodreads_interactions.csv  > xaa"
   ]
  },
  {
   "cell_type": "code",
   "execution_count": 60,
   "id": "29096a03",
   "metadata": {
    "ExecuteTime": {
     "end_time": "2023-02-12T13:45:52.117790Z",
     "start_time": "2023-02-12T13:45:52.051343Z"
    }
   },
   "outputs": [
    {
     "name": "stderr",
     "output_type": "stream",
     "text": [
      "+ ls -la xaa\n"
     ]
    },
    {
     "name": "stdout",
     "output_type": "stream",
     "text": [
      "-rw-r--r-- 1 user user 1511415 Feb 12 14:45 xaa\n"
     ]
    },
    {
     "name": "stderr",
     "output_type": "stream",
     "text": [
      "+ du -h xaa\n"
     ]
    },
    {
     "name": "stdout",
     "output_type": "stream",
     "text": [
      "1.5M\txaa\n"
     ]
    },
    {
     "name": "stderr",
     "output_type": "stream",
     "text": [
      "+ wc -l xaa\n"
     ]
    },
    {
     "name": "stdout",
     "output_type": "stream",
     "text": [
      "100000 xaa\n"
     ]
    },
    {
     "name": "stderr",
     "output_type": "stream",
     "text": [
      "+ sha1sum xaa\n"
     ]
    },
    {
     "name": "stdout",
     "output_type": "stream",
     "text": [
      "c144902b17aeb896897f30ac3ebe59e73e2d6558  xaa\n"
     ]
    },
    {
     "name": "stderr",
     "output_type": "stream",
     "text": [
      "+ head xaa\n"
     ]
    },
    {
     "name": "stdout",
     "output_type": "stream",
     "text": [
      "user_id,book_id,is_read,rating,is_reviewed\n",
      "0,948,1,5,0\n",
      "0,947,1,5,1\n",
      "0,946,1,5,0\n",
      "0,945,1,5,0\n",
      "0,944,1,5,0\n",
      "0,943,1,5,0\n",
      "0,942,1,5,0\n",
      "0,941,1,5,0\n",
      "0,940,1,5,0\n"
     ]
    }
   ],
   "source": [
    "%%bash\n",
    "set -x\n",
    "ls -la xaa\n",
    "du -h xaa\n",
    "wc -l xaa\n",
    "sha1sum xaa\n",
    "head xaa"
   ]
  },
  {
   "cell_type": "code",
   "execution_count": 61,
   "id": "21e07106",
   "metadata": {
    "ExecuteTime": {
     "end_time": "2023-02-12T13:45:52.529200Z",
     "start_time": "2023-02-12T13:45:52.466014Z"
    }
   },
   "outputs": [
    {
     "data": {
      "text/html": [
       "<div>\n",
       "<style scoped>\n",
       "    .dataframe tbody tr th:only-of-type {\n",
       "        vertical-align: middle;\n",
       "    }\n",
       "\n",
       "    .dataframe tbody tr th {\n",
       "        vertical-align: top;\n",
       "    }\n",
       "\n",
       "    .dataframe thead th {\n",
       "        text-align: right;\n",
       "    }\n",
       "</style>\n",
       "<table border=\"1\" class=\"dataframe\">\n",
       "  <thead>\n",
       "    <tr style=\"text-align: right;\">\n",
       "      <th></th>\n",
       "      <th>user_id</th>\n",
       "      <th>book_id</th>\n",
       "      <th>rating</th>\n",
       "    </tr>\n",
       "  </thead>\n",
       "  <tbody>\n",
       "    <tr>\n",
       "      <th>0</th>\n",
       "      <td>0</td>\n",
       "      <td>948</td>\n",
       "      <td>5</td>\n",
       "    </tr>\n",
       "    <tr>\n",
       "      <th>1</th>\n",
       "      <td>0</td>\n",
       "      <td>947</td>\n",
       "      <td>5</td>\n",
       "    </tr>\n",
       "    <tr>\n",
       "      <th>2</th>\n",
       "      <td>0</td>\n",
       "      <td>946</td>\n",
       "      <td>5</td>\n",
       "    </tr>\n",
       "    <tr>\n",
       "      <th>3</th>\n",
       "      <td>0</td>\n",
       "      <td>945</td>\n",
       "      <td>5</td>\n",
       "    </tr>\n",
       "    <tr>\n",
       "      <th>4</th>\n",
       "      <td>0</td>\n",
       "      <td>944</td>\n",
       "      <td>5</td>\n",
       "    </tr>\n",
       "    <tr>\n",
       "      <th>...</th>\n",
       "      <td>...</td>\n",
       "      <td>...</td>\n",
       "      <td>...</td>\n",
       "    </tr>\n",
       "    <tr>\n",
       "      <th>99994</th>\n",
       "      <td>227</td>\n",
       "      <td>17543</td>\n",
       "      <td>2</td>\n",
       "    </tr>\n",
       "    <tr>\n",
       "      <th>99995</th>\n",
       "      <td>227</td>\n",
       "      <td>882</td>\n",
       "      <td>3</td>\n",
       "    </tr>\n",
       "    <tr>\n",
       "      <th>99996</th>\n",
       "      <td>227</td>\n",
       "      <td>59168</td>\n",
       "      <td>3</td>\n",
       "    </tr>\n",
       "    <tr>\n",
       "      <th>99997</th>\n",
       "      <td>227</td>\n",
       "      <td>24428</td>\n",
       "      <td>3</td>\n",
       "    </tr>\n",
       "    <tr>\n",
       "      <th>99998</th>\n",
       "      <td>227</td>\n",
       "      <td>59167</td>\n",
       "      <td>2</td>\n",
       "    </tr>\n",
       "  </tbody>\n",
       "</table>\n",
       "<p>99999 rows × 3 columns</p>\n",
       "</div>"
      ],
      "text/plain": [
       "       user_id  book_id  rating\n",
       "0            0      948       5\n",
       "1            0      947       5\n",
       "2            0      946       5\n",
       "3            0      945       5\n",
       "4            0      944       5\n",
       "...        ...      ...     ...\n",
       "99994      227    17543       2\n",
       "99995      227      882       3\n",
       "99996      227    59168       3\n",
       "99997      227    24428       3\n",
       "99998      227    59167       2\n",
       "\n",
       "[99999 rows x 3 columns]"
      ]
     },
     "execution_count": 61,
     "metadata": {},
     "output_type": "execute_result"
    }
   ],
   "source": [
    "'''xaa: file with downsampled dataset -- e.g. first 100_000 lines of csv file'''\n",
    "df = pd.read_csv(\"xaa\")\n",
    "df = df.drop(columns=[\"is_read\", \"is_reviewed\"])\n",
    "df"
   ]
  },
  {
   "cell_type": "code",
   "execution_count": null,
   "id": "286fa116",
   "metadata": {},
   "outputs": [],
   "source": []
  },
  {
   "cell_type": "code",
   "execution_count": 62,
   "id": "b1c51927",
   "metadata": {
    "ExecuteTime": {
     "end_time": "2023-02-12T13:45:54.507140Z",
     "start_time": "2023-02-12T13:45:54.492924Z"
    }
   },
   "outputs": [
    {
     "data": {
      "text/plain": [
       "{'test_rmse': array([0.62300564, 1.52252484]),\n",
       " 'test_mae': array([0.50268469, 1.50429093]),\n",
       " 'fit_time': (0.00014710426330566406, 3.7670135498046875e-05),\n",
       " 'test_time': (5.984306335449219e-05, 2.86102294921875e-05)}"
      ]
     },
     "execution_count": 62,
     "metadata": {},
     "output_type": "execute_result"
    }
   ],
   "source": [
    "# Creation of the dataframe. Column names are irrelevant.\n",
    "ratings_dict = {\n",
    "    \"itemID\": [1, 1, 1, 2, 2],\n",
    "    \"userID\": [9, 32, 2, 45, \"user_foo\"],\n",
    "    \"rating\": [3, 2, 4, 3, 1],\n",
    "}\n",
    "df = pd.DataFrame(ratings_dict)\n",
    "\n",
    "# A reader is still needed but only the rating_scale param is requiered.\n",
    "reader = Reader(rating_scale=(1, 5))\n",
    "\n",
    "# The columns must correspond to user id, item id and ratings (in that order).\n",
    "data = Dataset.load_from_df(df[[\"userID\", \"itemID\", \"rating\"]], reader)\n",
    "\n",
    "# We can now use this dataset as we please, e.g. calling cross_validate\n",
    "cross_validate(NormalPredictor(), data, cv=2)"
   ]
  },
  {
   "cell_type": "code",
   "execution_count": 63,
   "id": "1a257c82",
   "metadata": {
    "ExecuteTime": {
     "end_time": "2023-02-12T13:45:55.777610Z",
     "start_time": "2023-02-12T13:45:55.774647Z"
    }
   },
   "outputs": [],
   "source": [
    "algo = KNNBasic()"
   ]
  },
  {
   "cell_type": "code",
   "execution_count": null,
   "id": "4d8c2f0c",
   "metadata": {},
   "outputs": [],
   "source": []
  },
  {
   "cell_type": "code",
   "execution_count": null,
   "id": "c8905e24",
   "metadata": {},
   "outputs": [],
   "source": []
  },
  {
   "cell_type": "code",
   "execution_count": 64,
   "id": "638625e3",
   "metadata": {
    "ExecuteTime": {
     "end_time": "2023-02-12T13:45:59.750346Z",
     "start_time": "2023-02-12T13:45:59.660530Z"
    }
   },
   "outputs": [
    {
     "ename": "KeyError",
     "evalue": "\"['user_id', 'book_id'] not in index\"",
     "output_type": "error",
     "traceback": [
      "\u001b[0;31m---------------------------------------------------------------------------\u001b[0m",
      "\u001b[0;31mKeyError\u001b[0m                                  Traceback (most recent call last)",
      "Cell \u001b[0;32mIn[64], line 2\u001b[0m\n\u001b[1;32m      1\u001b[0m reader \u001b[38;5;241m=\u001b[39m Reader()\n\u001b[0;32m----> 2\u001b[0m data \u001b[38;5;241m=\u001b[39m Dataset\u001b[38;5;241m.\u001b[39mload_from_df(\u001b[43mdf\u001b[49m\u001b[43m[\u001b[49m\u001b[43m[\u001b[49m\u001b[38;5;124;43m\"\u001b[39;49m\u001b[38;5;124;43muser_id\u001b[39;49m\u001b[38;5;124;43m\"\u001b[39;49m\u001b[43m,\u001b[49m\u001b[43m \u001b[49m\u001b[38;5;124;43m\"\u001b[39;49m\u001b[38;5;124;43mbook_id\u001b[39;49m\u001b[38;5;124;43m\"\u001b[39;49m\u001b[43m,\u001b[49m\u001b[43m \u001b[49m\u001b[38;5;124;43m\"\u001b[39;49m\u001b[38;5;124;43mrating\u001b[39;49m\u001b[38;5;124;43m\"\u001b[39;49m\u001b[43m]\u001b[49m\u001b[43m]\u001b[49m, reader)\n",
      "File \u001b[0;32m~/miniforge3/envs/Recommend/lib/python3.8/site-packages/pandas/core/frame.py:3810\u001b[0m, in \u001b[0;36mDataFrame.__getitem__\u001b[0;34m(self, key)\u001b[0m\n\u001b[1;32m   3808\u001b[0m     \u001b[38;5;28;01mif\u001b[39;00m is_iterator(key):\n\u001b[1;32m   3809\u001b[0m         key \u001b[38;5;241m=\u001b[39m \u001b[38;5;28mlist\u001b[39m(key)\n\u001b[0;32m-> 3810\u001b[0m     indexer \u001b[38;5;241m=\u001b[39m \u001b[38;5;28;43mself\u001b[39;49m\u001b[38;5;241;43m.\u001b[39;49m\u001b[43mcolumns\u001b[49m\u001b[38;5;241;43m.\u001b[39;49m\u001b[43m_get_indexer_strict\u001b[49m\u001b[43m(\u001b[49m\u001b[43mkey\u001b[49m\u001b[43m,\u001b[49m\u001b[43m \u001b[49m\u001b[38;5;124;43m\"\u001b[39;49m\u001b[38;5;124;43mcolumns\u001b[39;49m\u001b[38;5;124;43m\"\u001b[39;49m\u001b[43m)\u001b[49m[\u001b[38;5;241m1\u001b[39m]\n\u001b[1;32m   3812\u001b[0m \u001b[38;5;66;03m# take() does not accept boolean indexers\u001b[39;00m\n\u001b[1;32m   3813\u001b[0m \u001b[38;5;28;01mif\u001b[39;00m \u001b[38;5;28mgetattr\u001b[39m(indexer, \u001b[38;5;124m\"\u001b[39m\u001b[38;5;124mdtype\u001b[39m\u001b[38;5;124m\"\u001b[39m, \u001b[38;5;28;01mNone\u001b[39;00m) \u001b[38;5;241m==\u001b[39m \u001b[38;5;28mbool\u001b[39m:\n",
      "File \u001b[0;32m~/miniforge3/envs/Recommend/lib/python3.8/site-packages/pandas/core/indexes/base.py:6111\u001b[0m, in \u001b[0;36mIndex._get_indexer_strict\u001b[0;34m(self, key, axis_name)\u001b[0m\n\u001b[1;32m   6108\u001b[0m \u001b[38;5;28;01melse\u001b[39;00m:\n\u001b[1;32m   6109\u001b[0m     keyarr, indexer, new_indexer \u001b[38;5;241m=\u001b[39m \u001b[38;5;28mself\u001b[39m\u001b[38;5;241m.\u001b[39m_reindex_non_unique(keyarr)\n\u001b[0;32m-> 6111\u001b[0m \u001b[38;5;28;43mself\u001b[39;49m\u001b[38;5;241;43m.\u001b[39;49m\u001b[43m_raise_if_missing\u001b[49m\u001b[43m(\u001b[49m\u001b[43mkeyarr\u001b[49m\u001b[43m,\u001b[49m\u001b[43m \u001b[49m\u001b[43mindexer\u001b[49m\u001b[43m,\u001b[49m\u001b[43m \u001b[49m\u001b[43maxis_name\u001b[49m\u001b[43m)\u001b[49m\n\u001b[1;32m   6113\u001b[0m keyarr \u001b[38;5;241m=\u001b[39m \u001b[38;5;28mself\u001b[39m\u001b[38;5;241m.\u001b[39mtake(indexer)\n\u001b[1;32m   6114\u001b[0m \u001b[38;5;28;01mif\u001b[39;00m \u001b[38;5;28misinstance\u001b[39m(key, Index):\n\u001b[1;32m   6115\u001b[0m     \u001b[38;5;66;03m# GH 42790 - Preserve name from an Index\u001b[39;00m\n",
      "File \u001b[0;32m~/miniforge3/envs/Recommend/lib/python3.8/site-packages/pandas/core/indexes/base.py:6174\u001b[0m, in \u001b[0;36mIndex._raise_if_missing\u001b[0;34m(self, key, indexer, axis_name)\u001b[0m\n\u001b[1;32m   6171\u001b[0m     \u001b[38;5;28;01mraise\u001b[39;00m \u001b[38;5;167;01mKeyError\u001b[39;00m(\u001b[38;5;124mf\u001b[39m\u001b[38;5;124m\"\u001b[39m\u001b[38;5;124mNone of [\u001b[39m\u001b[38;5;132;01m{\u001b[39;00mkey\u001b[38;5;132;01m}\u001b[39;00m\u001b[38;5;124m] are in the [\u001b[39m\u001b[38;5;132;01m{\u001b[39;00maxis_name\u001b[38;5;132;01m}\u001b[39;00m\u001b[38;5;124m]\u001b[39m\u001b[38;5;124m\"\u001b[39m)\n\u001b[1;32m   6173\u001b[0m not_found \u001b[38;5;241m=\u001b[39m \u001b[38;5;28mlist\u001b[39m(ensure_index(key)[missing_mask\u001b[38;5;241m.\u001b[39mnonzero()[\u001b[38;5;241m0\u001b[39m]]\u001b[38;5;241m.\u001b[39munique())\n\u001b[0;32m-> 6174\u001b[0m \u001b[38;5;28;01mraise\u001b[39;00m \u001b[38;5;167;01mKeyError\u001b[39;00m(\u001b[38;5;124mf\u001b[39m\u001b[38;5;124m\"\u001b[39m\u001b[38;5;132;01m{\u001b[39;00mnot_found\u001b[38;5;132;01m}\u001b[39;00m\u001b[38;5;124m not in index\u001b[39m\u001b[38;5;124m\"\u001b[39m)\n",
      "\u001b[0;31mKeyError\u001b[0m: \"['user_id', 'book_id'] not in index\""
     ]
    }
   ],
   "source": [
    "reader = Reader()\n",
    "data = Dataset.load_from_df(df[[\"user_id\", \"book_id\", \"rating\"]], reader)"
   ]
  },
  {
   "cell_type": "code",
   "execution_count": 65,
   "id": "552b0143",
   "metadata": {
    "ExecuteTime": {
     "end_time": "2023-02-12T13:46:02.298499Z",
     "start_time": "2023-02-12T13:46:02.291729Z"
    }
   },
   "outputs": [],
   "source": [
    "trainset, testset = train_test_split(data, test_size=0.25)"
   ]
  },
  {
   "cell_type": "code",
   "execution_count": 66,
   "id": "40b5ceee",
   "metadata": {
    "ExecuteTime": {
     "end_time": "2023-02-12T13:46:02.906598Z",
     "start_time": "2023-02-12T13:46:02.900576Z"
    }
   },
   "outputs": [
    {
     "data": {
      "text/plain": [
       "<surprise.prediction_algorithms.matrix_factorization.SVD at 0x7b8b0b1794f0>"
      ]
     },
     "execution_count": 66,
     "metadata": {},
     "output_type": "execute_result"
    }
   ],
   "source": [
    "algo = SVD()\n",
    "algo.fit(trainset)"
   ]
  },
  {
   "cell_type": "code",
   "execution_count": 67,
   "id": "cfe3f4d8",
   "metadata": {
    "ExecuteTime": {
     "end_time": "2023-02-12T13:46:03.568430Z",
     "start_time": "2023-02-12T13:46:03.565269Z"
    }
   },
   "outputs": [],
   "source": [
    "predictions = algo.test(testset)"
   ]
  },
  {
   "cell_type": "code",
   "execution_count": 68,
   "id": "ad1621e5",
   "metadata": {
    "ExecuteTime": {
     "end_time": "2023-02-12T13:46:04.310909Z",
     "start_time": "2023-02-12T13:46:04.295100Z"
    }
   },
   "outputs": [
    {
     "name": "stdout",
     "output_type": "stream",
     "text": [
      "RMSE: 1.8933\n"
     ]
    },
    {
     "data": {
      "text/plain": [
       "1.893344621575743"
      ]
     },
     "execution_count": 68,
     "metadata": {},
     "output_type": "execute_result"
    }
   ],
   "source": [
    "accuracy.rmse(predictions)"
   ]
  },
  {
   "cell_type": "code",
   "execution_count": 69,
   "id": "ff50c982",
   "metadata": {
    "ExecuteTime": {
     "end_time": "2023-02-12T13:46:04.991200Z",
     "start_time": "2023-02-12T13:46:04.984025Z"
    }
   },
   "outputs": [
    {
     "data": {
      "text/plain": [
       "<bound method AlgoBase.predict of <surprise.prediction_algorithms.matrix_factorization.SVD object at 0x7b8b0b1794f0>>"
      ]
     },
     "execution_count": 69,
     "metadata": {},
     "output_type": "execute_result"
    }
   ],
   "source": [
    "algo.predict"
   ]
  },
  {
   "cell_type": "code",
   "execution_count": 70,
   "id": "a224e331",
   "metadata": {
    "ExecuteTime": {
     "end_time": "2023-02-12T13:46:05.561768Z",
     "start_time": "2023-02-12T13:46:05.551874Z"
    }
   },
   "outputs": [
    {
     "data": {
      "text/plain": [
       "[]"
      ]
     },
     "execution_count": 70,
     "metadata": {},
     "output_type": "execute_result"
    }
   ],
   "source": [
    "get_top_n(predictions, n=10)[220]"
   ]
  },
  {
   "cell_type": "code",
   "execution_count": null,
   "id": "4b5048cf",
   "metadata": {},
   "outputs": [],
   "source": []
  }
 ],
 "metadata": {
  "kernelspec": {
   "display_name": "Python [conda env:Recommend]",
   "language": "python",
   "name": "conda-env-Recommend-py"
  },
  "language_info": {
   "codemirror_mode": {
    "name": "ipython",
    "version": 3
   },
   "file_extension": ".py",
   "mimetype": "text/x-python",
   "name": "python",
   "nbconvert_exporter": "python",
   "pygments_lexer": "ipython3",
   "version": "3.8.10"
  },
  "toc": {
   "base_numbering": 1,
   "nav_menu": {},
   "number_sections": true,
   "sideBar": true,
   "skip_h1_title": false,
   "title_cell": "Table of Contents",
   "title_sidebar": "Contents",
   "toc_cell": false,
   "toc_position": {},
   "toc_section_display": true,
   "toc_window_display": false
  },
  "varInspector": {
   "cols": {
    "lenName": 16,
    "lenType": 16,
    "lenVar": 40
   },
   "kernels_config": {
    "python": {
     "delete_cmd_postfix": "",
     "delete_cmd_prefix": "del ",
     "library": "var_list.py",
     "varRefreshCmd": "print(var_dic_list())"
    },
    "r": {
     "delete_cmd_postfix": ") ",
     "delete_cmd_prefix": "rm(",
     "library": "var_list.r",
     "varRefreshCmd": "cat(var_dic_list()) "
    }
   },
   "types_to_exclude": [
    "module",
    "function",
    "builtin_function_or_method",
    "instance",
    "_Feature"
   ],
   "window_display": false
  }
 },
 "nbformat": 4,
 "nbformat_minor": 5
}
