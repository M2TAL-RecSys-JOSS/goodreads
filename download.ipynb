{
 "cells": [
  {
   "cell_type": "markdown",
   "metadata": {},
   "source": [
    "# Download datasets"
   ]
  },
  {
   "cell_type": "markdown",
   "metadata": {},
   "source": [
    "### Note the datasets could be very large! Feel free to check the [dataset website](https://sites.google.com/eng.ucsd.edu/ucsdbookgraph/home) and download files you really need."
   ]
  },
  {
   "cell_type": "markdown",
   "metadata": {},
   "source": [
    "**The datasets are hosted on the google drive. Thus downloading without GUI requires installing the [gdown](https://github.com/wkentaro/gdown) package**:"
   ]
  },
  {
   "cell_type": "markdown",
   "metadata": {},
   "source": [
    "## Download in bash commands\n",
    "\n",
    "**We can install the gdown package in shell:**\n",
    "\n",
    "`$ pip install gdown`\n",
    "\n",
    "**and download the file by specifying its gdrive ID in the following command**\n",
    "\n",
    "`$ gdown 'https://drive.google.com/uc?id={fileID}'`"
   ]
  },
  {
   "cell_type": "markdown",
   "metadata": {},
   "source": [
    "## Download in python\n",
    "\n",
    "**We can also install the gdown package here and download files in python**"
   ]
  },
  {
   "cell_type": "code",
   "execution_count": 1,
   "metadata": {
    "ExecuteTime": {
     "end_time": "2023-02-06T14:39:56.661102Z",
     "start_time": "2023-02-06T14:39:53.304483Z"
    }
   },
   "outputs": [
    {
     "name": "stdout",
     "output_type": "stream",
     "text": [
      "fish: Unknown command: fish_add_path\n",
      "/nix/var/nix/profiles/default/etc/profile.d/nix-daemon.fish (line 34): \n",
      "fish_add_path --prepend --global \"/nix/var/nix/profiles/default/bin\"\n",
      "^\n",
      "from sourcing file /nix/var/nix/profiles/default/etc/profile.d/nix-daemon.fish\n",
      "\tcalled on line 185 of file /usr/share/fish/config.fish\n",
      "in function '.' with arguments '/nix/var/nix/profiles/default/etc/profile.d/nix-daemon.fish'\n",
      "\tcalled on line 4 of file /etc/fish/conf.d/nix.fish\n",
      "from sourcing file /etc/fish/conf.d/nix.fish\n",
      "\tcalled on line 294 of file /usr/share/fish/config.fish\n",
      "from sourcing file /usr/share/fish/config.fish\n",
      "\tcalled during startup\n",
      "fish: Unknown command: fish_add_path\n",
      "/nix/var/nix/profiles/default/etc/profile.d/nix-daemon.fish (line 35): \n",
      "fish_add_path --prepend --global \"$HOME/.nix-profile/bin\"\n",
      "^\n",
      "from sourcing file /nix/var/nix/profiles/default/etc/profile.d/nix-daemon.fish\n",
      "\tcalled on line 185 of file /usr/share/fish/config.fish\n",
      "in function '.' with arguments '/nix/var/nix/profiles/default/etc/profile.d/nix-daemon.fish'\n",
      "\tcalled on line 4 of file /etc/fish/conf.d/nix.fish\n",
      "from sourcing file /etc/fish/conf.d/nix.fish\n",
      "\tcalled on line 294 of file /usr/share/fish/config.fish\n",
      "from sourcing file /usr/share/fish/config.fish\n",
      "\tcalled during startup\n",
      "Requirement already satisfied: gdown in /home/user/miniforge3/envs/Recommend/lib/python3.8/site-packages (4.6.0)\n",
      "Requirement already satisfied: beautifulsoup4 in /home/user/miniforge3/envs/Recommend/lib/python3.8/site-packages (from gdown) (4.11.2)\n",
      "Requirement already satisfied: filelock in /home/user/miniforge3/envs/Recommend/lib/python3.8/site-packages (from gdown) (3.9.0)\n",
      "Requirement already satisfied: six in /home/user/miniforge3/envs/Recommend/lib/python3.8/site-packages (from gdown) (1.16.0)\n",
      "Requirement already satisfied: requests[socks] in /home/user/miniforge3/envs/Recommend/lib/python3.8/site-packages (from gdown) (2.28.1)\n",
      "Requirement already satisfied: tqdm in /home/user/miniforge3/envs/Recommend/lib/python3.8/site-packages (from gdown) (4.64.1)\n",
      "Requirement already satisfied: soupsieve>1.2 in /home/user/miniforge3/envs/Recommend/lib/python3.8/site-packages (from beautifulsoup4->gdown) (2.3.2.post1)\n",
      "Requirement already satisfied: charset-normalizer<3,>=2 in /home/user/miniforge3/envs/Recommend/lib/python3.8/site-packages (from requests[socks]->gdown) (2.1.1)\n",
      "Requirement already satisfied: idna<4,>=2.5 in /home/user/miniforge3/envs/Recommend/lib/python3.8/site-packages (from requests[socks]->gdown) (3.4)\n",
      "Requirement already satisfied: urllib3<1.27,>=1.21.1 in /home/user/miniforge3/envs/Recommend/lib/python3.8/site-packages (from requests[socks]->gdown) (1.26.12)\n",
      "Requirement already satisfied: certifi>=2017.4.17 in /home/user/miniforge3/envs/Recommend/lib/python3.8/site-packages (from requests[socks]->gdown) (2022.9.24)\n",
      "Requirement already satisfied: PySocks!=1.5.7,>=1.5.6 in /home/user/miniforge3/envs/Recommend/lib/python3.8/site-packages (from requests[socks]->gdown) (1.7.1)\n"
     ]
    }
   ],
   "source": [
    "import sys\n",
    "!{sys.executable} -m pip install gdown"
   ]
  },
  {
   "cell_type": "code",
   "execution_count": 4,
   "metadata": {
    "ExecuteTime": {
     "end_time": "2023-02-06T14:40:05.521348Z",
     "start_time": "2023-02-06T14:40:04.699435Z"
    }
   },
   "outputs": [],
   "source": [
    "import pandas as pd\n",
    "import gdown\n",
    "import os"
   ]
  },
  {
   "cell_type": "markdown",
   "metadata": {},
   "source": [
    "**Specify your directory here:**"
   ]
  },
  {
   "cell_type": "code",
   "execution_count": 5,
   "metadata": {
    "ExecuteTime": {
     "end_time": "2023-02-06T14:40:05.973523Z",
     "start_time": "2023-02-06T14:40:05.967499Z"
    }
   },
   "outputs": [],
   "source": [
    "DIR = './'\n",
    "#OUT_DIR = '/home/mengting/'\n",
    "OUT_DIR = '../gdown_output/'"
   ]
  },
  {
   "cell_type": "markdown",
   "metadata": {},
   "source": [
    "**Load the google drive ids of the datasets**"
   ]
  },
  {
   "cell_type": "code",
   "execution_count": 6,
   "metadata": {
    "ExecuteTime": {
     "end_time": "2023-02-06T14:40:06.797436Z",
     "start_time": "2023-02-06T14:40:06.757143Z"
    }
   },
   "outputs": [
    {
     "data": {
      "text/html": [
       "<div>\n",
       "<style scoped>\n",
       "    .dataframe tbody tr th:only-of-type {\n",
       "        vertical-align: middle;\n",
       "    }\n",
       "\n",
       "    .dataframe tbody tr th {\n",
       "        vertical-align: top;\n",
       "    }\n",
       "\n",
       "    .dataframe thead th {\n",
       "        text-align: right;\n",
       "    }\n",
       "</style>\n",
       "<table border=\"1\" class=\"dataframe\">\n",
       "  <thead>\n",
       "    <tr style=\"text-align: right;\">\n",
       "      <th></th>\n",
       "      <th>id</th>\n",
       "      <th>name</th>\n",
       "    </tr>\n",
       "  </thead>\n",
       "  <tbody>\n",
       "    <tr>\n",
       "      <th>0</th>\n",
       "      <td>1TLmSvzHvTLLLMjMoQdkx6pBWon-4bli7</td>\n",
       "      <td>goodreads_book_works.json.gz</td>\n",
       "    </tr>\n",
       "    <tr>\n",
       "      <th>1</th>\n",
       "      <td>19cdwyXwfXx_HDIgxXaHzH0mrx8nMyLvC</td>\n",
       "      <td>goodreads_book_authors.json.gz</td>\n",
       "    </tr>\n",
       "    <tr>\n",
       "      <th>2</th>\n",
       "      <td>1op8D4e5BaxU2JcPUgxM3ZqrodajryFBb</td>\n",
       "      <td>goodreads_book_series.json.gz</td>\n",
       "    </tr>\n",
       "    <tr>\n",
       "      <th>3</th>\n",
       "      <td>1LXpK1UfqtP89H1tYy0pBGHjYk8IhigUK</td>\n",
       "      <td>goodreads_books.json.gz</td>\n",
       "    </tr>\n",
       "    <tr>\n",
       "      <th>4</th>\n",
       "      <td>1ah0_KpUterVi-AHxJ03iKD6O0NfbK0md</td>\n",
       "      <td>goodreads_book_genres_initial.json.gz</td>\n",
       "    </tr>\n",
       "    <tr>\n",
       "      <th>5</th>\n",
       "      <td>1R3wJPgyzEX9w6EI8_LmqLbpY4cIC9gw4</td>\n",
       "      <td>goodreads_books_children.json.gz</td>\n",
       "    </tr>\n",
       "    <tr>\n",
       "      <th>6</th>\n",
       "      <td>1ICk5x0HXvXDp5Zt54CKPh5qz1HyUIn9m</td>\n",
       "      <td>goodreads_books_comics_graphic.json.gz</td>\n",
       "    </tr>\n",
       "    <tr>\n",
       "      <th>7</th>\n",
       "      <td>1x8IudloezYEg6qDTPxuBkqGuQ3xIBKrt</td>\n",
       "      <td>goodreads_books_fantasy_paranormal.json.gz</td>\n",
       "    </tr>\n",
       "    <tr>\n",
       "      <th>8</th>\n",
       "      <td>1roQnVtWxVE1tbiXyabrotdZyUY7FA82W</td>\n",
       "      <td>goodreads_books_history_biography.json.gz</td>\n",
       "    </tr>\n",
       "    <tr>\n",
       "      <th>9</th>\n",
       "      <td>1ACGrQS0sX4-26D358G2i5pja1Y6CsGtz</td>\n",
       "      <td>goodreads_books_mystery_thriller_crime.json.gz</td>\n",
       "    </tr>\n",
       "    <tr>\n",
       "      <th>10</th>\n",
       "      <td>1H6xUV48D5sa2uSF_BusW-IBJ7PCQZTS1</td>\n",
       "      <td>goodreads_books_poetry.json.gz</td>\n",
       "    </tr>\n",
       "    <tr>\n",
       "      <th>11</th>\n",
       "      <td>1juZreOlU4FhGnBfP781jAvYdv-UPSf6Q</td>\n",
       "      <td>goodreads_books_romance.json.gz</td>\n",
       "    </tr>\n",
       "    <tr>\n",
       "      <th>12</th>\n",
       "      <td>1gH7dG4yQzZykTpbHYsrw2nFknjUm0Mol</td>\n",
       "      <td>goodreads_books_young_adult.json.gz</td>\n",
       "    </tr>\n",
       "    <tr>\n",
       "      <th>13</th>\n",
       "      <td>1Cf90P5TH84ufrs8qyLrM-iWOXOGjBi9r</td>\n",
       "      <td>goodreads_interactions_children.json.gz</td>\n",
       "    </tr>\n",
       "    <tr>\n",
       "      <th>14</th>\n",
       "      <td>1CCj-cQw_mJLMdvF_YYfQ7ibKA-dC_GA2</td>\n",
       "      <td>goodreads_interactions_comics_graphic.json.gz</td>\n",
       "    </tr>\n",
       "    <tr>\n",
       "      <th>15</th>\n",
       "      <td>1EFHocJIh5nknbUMcz4LnrMEJkwW3Vk6h</td>\n",
       "      <td>goodreads_interactions_fantasy_paranormal.json.gz</td>\n",
       "    </tr>\n",
       "    <tr>\n",
       "      <th>16</th>\n",
       "      <td>10j181giCD94pcYynd6fy2U0RyAlL66YH</td>\n",
       "      <td>goodreads_interactions_history_biography.json.gz</td>\n",
       "    </tr>\n",
       "    <tr>\n",
       "      <th>17</th>\n",
       "      <td>1xuujDT-vOMMkk2Kog0CTT9ADmnD8pa9D</td>\n",
       "      <td>goodreads_interactions_mystery_thriller_crime....</td>\n",
       "    </tr>\n",
       "    <tr>\n",
       "      <th>18</th>\n",
       "      <td>17G5_MeSWuhYnD4fGJMvKRSOlBqCCimxJ</td>\n",
       "      <td>goodreads_interactions_poetry.json.gz</td>\n",
       "    </tr>\n",
       "    <tr>\n",
       "      <th>19</th>\n",
       "      <td>1OmPKA0TmL0nnECDRNF1YpWJw6PBDFl_j</td>\n",
       "      <td>goodreads_interactions_romance.json.gz</td>\n",
       "    </tr>\n",
       "    <tr>\n",
       "      <th>20</th>\n",
       "      <td>1NNX7SWcKahezLFNyiW88QFPAqOAYP5qg</td>\n",
       "      <td>goodreads_interactions_young_adult.json.gz</td>\n",
       "    </tr>\n",
       "    <tr>\n",
       "      <th>21</th>\n",
       "      <td>1908GDMdrhDN7sTaI_FelSHxbwcNM1EzR</td>\n",
       "      <td>goodreads_reviews_children.json.gz</td>\n",
       "    </tr>\n",
       "    <tr>\n",
       "      <th>22</th>\n",
       "      <td>1V4MLeoEiPQdocCbUHjR_7L9ZmxTufPFe</td>\n",
       "      <td>goodreads_reviews_comics_graphic.json.gz</td>\n",
       "    </tr>\n",
       "    <tr>\n",
       "      <th>23</th>\n",
       "      <td>1THnnmE4XSCvMkGOsqapQr2cJI5amKA6X</td>\n",
       "      <td>goodreads_reviews_fantasy_paranormal.json.gz</td>\n",
       "    </tr>\n",
       "    <tr>\n",
       "      <th>24</th>\n",
       "      <td>1lDkTzM6zpYU-HGkVAQgsw0dBzik-Zde9</td>\n",
       "      <td>goodreads_reviews_history_biography.json.gz</td>\n",
       "    </tr>\n",
       "    <tr>\n",
       "      <th>25</th>\n",
       "      <td>1ONpyuv0vrtd6iUEp0-zzkKqwpm3njEqi</td>\n",
       "      <td>goodreads_reviews_mystery_thriller_crime.json.gz</td>\n",
       "    </tr>\n",
       "    <tr>\n",
       "      <th>26</th>\n",
       "      <td>1FVD3LxJXRc5GrKm97LehLgVGbRfF9TyO</td>\n",
       "      <td>goodreads_reviews_poetry.json.gz</td>\n",
       "    </tr>\n",
       "    <tr>\n",
       "      <th>27</th>\n",
       "      <td>1NpFsDQKBj_lrTzSASfyKbmkSykzN88wE</td>\n",
       "      <td>goodreads_reviews_romance.json.gz</td>\n",
       "    </tr>\n",
       "    <tr>\n",
       "      <th>28</th>\n",
       "      <td>1M5iqCZ8a7rZRtsmY5KQ5rYnP9S0bQJVo</td>\n",
       "      <td>goodreads_reviews_young_adult.json.gz</td>\n",
       "    </tr>\n",
       "    <tr>\n",
       "      <th>29</th>\n",
       "      <td>1CHTAaNwyzvbi1TR08MJrJ03BxA266Yxr</td>\n",
       "      <td>book_id_map.csv</td>\n",
       "    </tr>\n",
       "    <tr>\n",
       "      <th>30</th>\n",
       "      <td>15ax-h0Oi_Oyee8gY_aAQN6odoijmiz6Q</td>\n",
       "      <td>user_id_map.csv</td>\n",
       "    </tr>\n",
       "    <tr>\n",
       "      <th>31</th>\n",
       "      <td>1zmylV7XW2dfQVCLeg1LbllfQtHD2KUon</td>\n",
       "      <td>goodreads_interactions.csv</td>\n",
       "    </tr>\n",
       "    <tr>\n",
       "      <th>32</th>\n",
       "      <td>1pQnXa7DWLdeUpvUFsKusYzwbA5CAAZx7</td>\n",
       "      <td>goodreads_reviews_dedup.json.gz</td>\n",
       "    </tr>\n",
       "    <tr>\n",
       "      <th>33</th>\n",
       "      <td>196W2kDoZXRPjzbTjM6uvTidn6aTpsFnS</td>\n",
       "      <td>goodreads_reviews_spoiler.json.gz</td>\n",
       "    </tr>\n",
       "    <tr>\n",
       "      <th>34</th>\n",
       "      <td>1NYV4F1WGJg6QbV0rOSXi6Y1gFLwic94a</td>\n",
       "      <td>goodreads_reviews_spoiler_raw.json.gz</td>\n",
       "    </tr>\n",
       "  </tbody>\n",
       "</table>\n",
       "</div>"
      ],
      "text/plain": [
       "                                   id  \\\n",
       "0   1TLmSvzHvTLLLMjMoQdkx6pBWon-4bli7   \n",
       "1   19cdwyXwfXx_HDIgxXaHzH0mrx8nMyLvC   \n",
       "2   1op8D4e5BaxU2JcPUgxM3ZqrodajryFBb   \n",
       "3   1LXpK1UfqtP89H1tYy0pBGHjYk8IhigUK   \n",
       "4   1ah0_KpUterVi-AHxJ03iKD6O0NfbK0md   \n",
       "5   1R3wJPgyzEX9w6EI8_LmqLbpY4cIC9gw4   \n",
       "6   1ICk5x0HXvXDp5Zt54CKPh5qz1HyUIn9m   \n",
       "7   1x8IudloezYEg6qDTPxuBkqGuQ3xIBKrt   \n",
       "8   1roQnVtWxVE1tbiXyabrotdZyUY7FA82W   \n",
       "9   1ACGrQS0sX4-26D358G2i5pja1Y6CsGtz   \n",
       "10  1H6xUV48D5sa2uSF_BusW-IBJ7PCQZTS1   \n",
       "11  1juZreOlU4FhGnBfP781jAvYdv-UPSf6Q   \n",
       "12  1gH7dG4yQzZykTpbHYsrw2nFknjUm0Mol   \n",
       "13  1Cf90P5TH84ufrs8qyLrM-iWOXOGjBi9r   \n",
       "14  1CCj-cQw_mJLMdvF_YYfQ7ibKA-dC_GA2   \n",
       "15  1EFHocJIh5nknbUMcz4LnrMEJkwW3Vk6h   \n",
       "16  10j181giCD94pcYynd6fy2U0RyAlL66YH   \n",
       "17  1xuujDT-vOMMkk2Kog0CTT9ADmnD8pa9D   \n",
       "18  17G5_MeSWuhYnD4fGJMvKRSOlBqCCimxJ   \n",
       "19  1OmPKA0TmL0nnECDRNF1YpWJw6PBDFl_j   \n",
       "20  1NNX7SWcKahezLFNyiW88QFPAqOAYP5qg   \n",
       "21  1908GDMdrhDN7sTaI_FelSHxbwcNM1EzR   \n",
       "22  1V4MLeoEiPQdocCbUHjR_7L9ZmxTufPFe   \n",
       "23  1THnnmE4XSCvMkGOsqapQr2cJI5amKA6X   \n",
       "24  1lDkTzM6zpYU-HGkVAQgsw0dBzik-Zde9   \n",
       "25  1ONpyuv0vrtd6iUEp0-zzkKqwpm3njEqi   \n",
       "26  1FVD3LxJXRc5GrKm97LehLgVGbRfF9TyO   \n",
       "27  1NpFsDQKBj_lrTzSASfyKbmkSykzN88wE   \n",
       "28  1M5iqCZ8a7rZRtsmY5KQ5rYnP9S0bQJVo   \n",
       "29  1CHTAaNwyzvbi1TR08MJrJ03BxA266Yxr   \n",
       "30  15ax-h0Oi_Oyee8gY_aAQN6odoijmiz6Q   \n",
       "31  1zmylV7XW2dfQVCLeg1LbllfQtHD2KUon   \n",
       "32  1pQnXa7DWLdeUpvUFsKusYzwbA5CAAZx7   \n",
       "33  196W2kDoZXRPjzbTjM6uvTidn6aTpsFnS   \n",
       "34  1NYV4F1WGJg6QbV0rOSXi6Y1gFLwic94a   \n",
       "\n",
       "                                                 name  \n",
       "0                        goodreads_book_works.json.gz  \n",
       "1                      goodreads_book_authors.json.gz  \n",
       "2                       goodreads_book_series.json.gz  \n",
       "3                             goodreads_books.json.gz  \n",
       "4               goodreads_book_genres_initial.json.gz  \n",
       "5                    goodreads_books_children.json.gz  \n",
       "6              goodreads_books_comics_graphic.json.gz  \n",
       "7          goodreads_books_fantasy_paranormal.json.gz  \n",
       "8           goodreads_books_history_biography.json.gz  \n",
       "9      goodreads_books_mystery_thriller_crime.json.gz  \n",
       "10                     goodreads_books_poetry.json.gz  \n",
       "11                    goodreads_books_romance.json.gz  \n",
       "12                goodreads_books_young_adult.json.gz  \n",
       "13            goodreads_interactions_children.json.gz  \n",
       "14      goodreads_interactions_comics_graphic.json.gz  \n",
       "15  goodreads_interactions_fantasy_paranormal.json.gz  \n",
       "16   goodreads_interactions_history_biography.json.gz  \n",
       "17  goodreads_interactions_mystery_thriller_crime....  \n",
       "18              goodreads_interactions_poetry.json.gz  \n",
       "19             goodreads_interactions_romance.json.gz  \n",
       "20         goodreads_interactions_young_adult.json.gz  \n",
       "21                 goodreads_reviews_children.json.gz  \n",
       "22           goodreads_reviews_comics_graphic.json.gz  \n",
       "23       goodreads_reviews_fantasy_paranormal.json.gz  \n",
       "24        goodreads_reviews_history_biography.json.gz  \n",
       "25   goodreads_reviews_mystery_thriller_crime.json.gz  \n",
       "26                   goodreads_reviews_poetry.json.gz  \n",
       "27                  goodreads_reviews_romance.json.gz  \n",
       "28              goodreads_reviews_young_adult.json.gz  \n",
       "29                                    book_id_map.csv  \n",
       "30                                    user_id_map.csv  \n",
       "31                         goodreads_interactions.csv  \n",
       "32                    goodreads_reviews_dedup.json.gz  \n",
       "33                  goodreads_reviews_spoiler.json.gz  \n",
       "34              goodreads_reviews_spoiler_raw.json.gz  "
      ]
     },
     "metadata": {},
     "output_type": "display_data"
    }
   ],
   "source": [
    "file_ids = pd.read_csv(os.path.join(DIR, 'gdrive_id.csv'))\n",
    "display(file_ids)"
   ]
  },
  {
   "cell_type": "markdown",
   "metadata": {},
   "source": [
    "**Now we can create a fileName-gdriveID map and a function to download files by name**"
   ]
  },
  {
   "cell_type": "code",
   "execution_count": 7,
   "metadata": {
    "ExecuteTime": {
     "end_time": "2023-02-06T14:40:08.725374Z",
     "start_time": "2023-02-06T14:40:08.716256Z"
    }
   },
   "outputs": [],
   "source": [
    "file_id_map = dict(zip(file_ids['name'].values, file_ids['id'].values))\n",
    "\n",
    "def download_by_name(fname, output=None, quiet=False):\n",
    "    if fname in file_id_map:\n",
    "        url = 'https://drive.google.com/uc?id='+file_id_map[fname]\n",
    "        gdown.download(url, output=output, quiet=quiet)\n",
    "    else:\n",
    "        print('The file', fname, 'can not be found!')"
   ]
  },
  {
   "cell_type": "markdown",
   "metadata": {},
   "source": [
    "**Switch to the output directory specified before:**"
   ]
  },
  {
   "cell_type": "code",
   "execution_count": 8,
   "metadata": {
    "ExecuteTime": {
     "end_time": "2023-02-06T14:40:10.062667Z",
     "start_time": "2023-02-06T14:40:10.055318Z"
    }
   },
   "outputs": [],
   "source": [
    "os.chdir(OUT_DIR)"
   ]
  },
  {
   "cell_type": "markdown",
   "metadata": {},
   "source": [
    "**Here we go!**"
   ]
  },
  {
   "cell_type": "code",
   "execution_count": 9,
   "metadata": {
    "ExecuteTime": {
     "end_time": "2023-02-06T14:40:11.145776Z",
     "start_time": "2023-02-06T14:40:11.137278Z"
    }
   },
   "outputs": [],
   "source": [
    "#download_by_name('goodreads_books_poetry.json.gz')"
   ]
  },
  {
   "cell_type": "code",
   "execution_count": null,
   "metadata": {
    "ExecuteTime": {
     "start_time": "2023-02-06T14:41:14.282Z"
    }
   },
   "outputs": [],
   "source": [
    "files = [\n",
    "    'goodreads_books_children.json.gz',\n",
    "    'goodreads_interactions_children.json.gz',\n",
    "    'goodreads_reviews_children.json.gz',\n",
    "\n",
    "    'goodreads_interactions.csv',\n",
    "]\n",
    "\n",
    "files = [\n",
    "    'goodreads_books_poetry.json.gz',\n",
    "    'goodreads_interactions_poetry.json.gz',\n",
    "    'goodreads_reviews_poetry.json.gz',\n",
    "]"
   ]
  },
  {
   "cell_type": "code",
   "execution_count": null,
   "metadata": {
    "ExecuteTime": {
     "start_time": "2023-02-06T14:40:13.342Z"
    }
   },
   "outputs": [
    {
     "name": "stderr",
     "output_type": "stream",
     "text": [
      "Downloading...\n",
      "From: https://drive.google.com/uc?id=1R3wJPgyzEX9w6EI8_LmqLbpY4cIC9gw4\n",
      "To: /home/user/cours/recommendation_systems/gdown_output/goodreads_books_children.json.gz\n",
      "100%|████████████████████████████████████████| 102M/102M [00:02<00:00, 34.0MB/s]\n",
      "Downloading...\n",
      "From: https://drive.google.com/uc?id=1Cf90P5TH84ufrs8qyLrM-iWOXOGjBi9r\n",
      "To: /home/user/cours/recommendation_systems/gdown_output/goodreads_interactions_children.json.gz\n",
      "100%|████████████████████████████████████████| 510M/510M [00:13<00:00, 38.9MB/s]\n",
      "Downloading...\n",
      "From: https://drive.google.com/uc?id=1908GDMdrhDN7sTaI_FelSHxbwcNM1EzR\n",
      "To: /home/user/cours/recommendation_systems/gdown_output/goodreads_reviews_children.json.gz\n",
      "100%|████████████████████████████████████████| 172M/172M [00:04<00:00, 39.3MB/s]\n",
      "Downloading...\n",
      "From: https://drive.google.com/uc?id=1zmylV7XW2dfQVCLeg1LbllfQtHD2KUon\n",
      "To: /home/user/cours/recommendation_systems/gdown_output/goodreads_interactions.csv\n",
      " 58%|██████████████████████▏               | 2.52G/4.32G [01:07<00:49, 36.2MB/s]"
     ]
    }
   ],
   "source": [
    "for f in files:\n",
    "    download_by_name(f)"
   ]
  },
  {
   "cell_type": "code",
   "execution_count": null,
   "metadata": {
    "ExecuteTime": {
     "end_time": "2023-02-06T14:04:08.112454Z",
     "start_time": "2023-02-06T14:04:08.112422Z"
    }
   },
   "outputs": [],
   "source": [
    "# split -l 100000 interactions.csv\n",
    "\n",
    "# split [-l line_count] [-b byte_count] [-n chunk_count] [file [prefix]]"
   ]
  },
  {
   "cell_type": "code",
   "execution_count": 17,
   "metadata": {
    "ExecuteTime": {
     "end_time": "2023-02-06T14:17:44.091330Z",
     "start_time": "2023-02-06T14:17:44.088320Z"
    }
   },
   "outputs": [],
   "source": [
    "f = 'goodreads_books.json.gz'"
   ]
  },
  {
   "cell_type": "code",
   "execution_count": null,
   "metadata": {},
   "outputs": [],
   "source": []
  }
 ],
 "metadata": {
  "kernelspec": {
   "display_name": "Python [conda env:Recommend]",
   "language": "python",
   "name": "conda-env-Recommend-py"
  },
  "language_info": {
   "codemirror_mode": {
    "name": "ipython",
    "version": 3
   },
   "file_extension": ".py",
   "mimetype": "text/x-python",
   "name": "python",
   "nbconvert_exporter": "python",
   "pygments_lexer": "ipython3",
   "version": "3.8.10"
  },
  "toc": {
   "base_numbering": 1,
   "nav_menu": {},
   "number_sections": true,
   "sideBar": true,
   "skip_h1_title": false,
   "title_cell": "Table of Contents",
   "title_sidebar": "Contents",
   "toc_cell": false,
   "toc_position": {},
   "toc_section_display": true,
   "toc_window_display": false
  },
  "varInspector": {
   "cols": {
    "lenName": 16,
    "lenType": 16,
    "lenVar": 40
   },
   "kernels_config": {
    "python": {
     "delete_cmd_postfix": "",
     "delete_cmd_prefix": "del ",
     "library": "var_list.py",
     "varRefreshCmd": "print(var_dic_list())"
    },
    "r": {
     "delete_cmd_postfix": ") ",
     "delete_cmd_prefix": "rm(",
     "library": "var_list.r",
     "varRefreshCmd": "cat(var_dic_list()) "
    }
   },
   "types_to_exclude": [
    "module",
    "function",
    "builtin_function_or_method",
    "instance",
    "_Feature"
   ],
   "window_display": false
  }
 },
 "nbformat": 4,
 "nbformat_minor": 2
}
